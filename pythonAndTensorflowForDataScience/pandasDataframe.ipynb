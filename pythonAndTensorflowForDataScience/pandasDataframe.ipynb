{
 "cells": [
  {
   "cell_type": "code",
   "execution_count": 1,
   "id": "e65beedf",
   "metadata": {},
   "outputs": [],
   "source": [
    "import numpy as np\n",
    "import pandas as pd"
   ]
  },
  {
   "cell_type": "code",
   "execution_count": 2,
   "id": "8171427d",
   "metadata": {},
   "outputs": [
    {
     "data": {
      "text/plain": [
       "<function RandomState.randn>"
      ]
     },
     "execution_count": 2,
     "metadata": {},
     "output_type": "execute_result"
    }
   ],
   "source": [
    "np.random.randn"
   ]
  },
  {
   "cell_type": "code",
   "execution_count": 4,
   "id": "07f122fe",
   "metadata": {},
   "outputs": [],
   "source": [
    "data= np.random.randn(4,5)"
   ]
  },
  {
   "cell_type": "code",
   "execution_count": 5,
   "id": "5aa0e236",
   "metadata": {},
   "outputs": [
    {
     "data": {
      "text/plain": [
       "array([[-0.36759814, -1.83492909, -1.14228192,  0.85773926,  1.33736343],\n",
       "       [ 0.75932673, -0.92502326, -1.18368531,  1.53103228, -0.41415083],\n",
       "       [-1.00295579,  0.40276149, -0.07257092, -0.17596035,  0.56299287],\n",
       "       [ 0.10174807, -0.64805422, -1.16664654, -1.39282377, -0.44586241]])"
      ]
     },
     "execution_count": 5,
     "metadata": {},
     "output_type": "execute_result"
    }
   ],
   "source": [
    "data"
   ]
  },
  {
   "cell_type": "code",
   "execution_count": 7,
   "id": "a3823551",
   "metadata": {},
   "outputs": [],
   "source": [
    "dataFrame= pd.DataFrame(data)"
   ]
  },
  {
   "cell_type": "code",
   "execution_count": 8,
   "id": "ddc03ce1",
   "metadata": {},
   "outputs": [
    {
     "data": {
      "text/html": [
       "<div>\n",
       "<style scoped>\n",
       "    .dataframe tbody tr th:only-of-type {\n",
       "        vertical-align: middle;\n",
       "    }\n",
       "\n",
       "    .dataframe tbody tr th {\n",
       "        vertical-align: top;\n",
       "    }\n",
       "\n",
       "    .dataframe thead th {\n",
       "        text-align: right;\n",
       "    }\n",
       "</style>\n",
       "<table border=\"1\" class=\"dataframe\">\n",
       "  <thead>\n",
       "    <tr style=\"text-align: right;\">\n",
       "      <th></th>\n",
       "      <th>0</th>\n",
       "      <th>1</th>\n",
       "      <th>2</th>\n",
       "      <th>3</th>\n",
       "      <th>4</th>\n",
       "    </tr>\n",
       "  </thead>\n",
       "  <tbody>\n",
       "    <tr>\n",
       "      <th>0</th>\n",
       "      <td>-0.367598</td>\n",
       "      <td>-1.834929</td>\n",
       "      <td>-1.142282</td>\n",
       "      <td>0.857739</td>\n",
       "      <td>1.337363</td>\n",
       "    </tr>\n",
       "    <tr>\n",
       "      <th>1</th>\n",
       "      <td>0.759327</td>\n",
       "      <td>-0.925023</td>\n",
       "      <td>-1.183685</td>\n",
       "      <td>1.531032</td>\n",
       "      <td>-0.414151</td>\n",
       "    </tr>\n",
       "    <tr>\n",
       "      <th>2</th>\n",
       "      <td>-1.002956</td>\n",
       "      <td>0.402761</td>\n",
       "      <td>-0.072571</td>\n",
       "      <td>-0.175960</td>\n",
       "      <td>0.562993</td>\n",
       "    </tr>\n",
       "    <tr>\n",
       "      <th>3</th>\n",
       "      <td>0.101748</td>\n",
       "      <td>-0.648054</td>\n",
       "      <td>-1.166647</td>\n",
       "      <td>-1.392824</td>\n",
       "      <td>-0.445862</td>\n",
       "    </tr>\n",
       "  </tbody>\n",
       "</table>\n",
       "</div>"
      ],
      "text/plain": [
       "          0         1         2         3         4\n",
       "0 -0.367598 -1.834929 -1.142282  0.857739  1.337363\n",
       "1  0.759327 -0.925023 -1.183685  1.531032 -0.414151\n",
       "2 -1.002956  0.402761 -0.072571 -0.175960  0.562993\n",
       "3  0.101748 -0.648054 -1.166647 -1.392824 -0.445862"
      ]
     },
     "execution_count": 8,
     "metadata": {},
     "output_type": "execute_result"
    }
   ],
   "source": [
    "dataFrame"
   ]
  },
  {
   "cell_type": "code",
   "execution_count": 10,
   "id": "85114ac3",
   "metadata": {},
   "outputs": [
    {
     "data": {
      "text/plain": [
       "pandas.core.series.Series"
      ]
     },
     "execution_count": 10,
     "metadata": {},
     "output_type": "execute_result"
    }
   ],
   "source": [
    "type(dataFrame[0])"
   ]
  },
  {
   "cell_type": "code",
   "execution_count": 11,
   "id": "302b32eb",
   "metadata": {},
   "outputs": [
    {
     "data": {
      "text/plain": [
       "-0.175960346861841"
      ]
     },
     "execution_count": 11,
     "metadata": {},
     "output_type": "execute_result"
    }
   ],
   "source": [
    "dataFrame[3][2]"
   ]
  },
  {
   "cell_type": "code",
   "execution_count": 18,
   "id": "631921d5",
   "metadata": {},
   "outputs": [
    {
     "data": {
      "text/html": [
       "<div>\n",
       "<style scoped>\n",
       "    .dataframe tbody tr th:only-of-type {\n",
       "        vertical-align: middle;\n",
       "    }\n",
       "\n",
       "    .dataframe tbody tr th {\n",
       "        vertical-align: top;\n",
       "    }\n",
       "\n",
       "    .dataframe thead th {\n",
       "        text-align: right;\n",
       "    }\n",
       "</style>\n",
       "<table border=\"1\" class=\"dataframe\">\n",
       "  <thead>\n",
       "    <tr style=\"text-align: right;\">\n",
       "      <th></th>\n",
       "      <th>maas</th>\n",
       "      <th>yas</th>\n",
       "      <th>calisma saati</th>\n",
       "      <th>izin</th>\n",
       "      <th>cinsiyet</th>\n",
       "    </tr>\n",
       "  </thead>\n",
       "  <tbody>\n",
       "    <tr>\n",
       "      <th>eray</th>\n",
       "      <td>-0.367598</td>\n",
       "      <td>-1.834929</td>\n",
       "      <td>-1.142282</td>\n",
       "      <td>0.857739</td>\n",
       "      <td>1.337363</td>\n",
       "    </tr>\n",
       "    <tr>\n",
       "      <th>arif</th>\n",
       "      <td>0.759327</td>\n",
       "      <td>-0.925023</td>\n",
       "      <td>-1.183685</td>\n",
       "      <td>1.531032</td>\n",
       "      <td>-0.414151</td>\n",
       "    </tr>\n",
       "    <tr>\n",
       "      <th>Ennur</th>\n",
       "      <td>-1.002956</td>\n",
       "      <td>0.402761</td>\n",
       "      <td>-0.072571</td>\n",
       "      <td>-0.175960</td>\n",
       "      <td>0.562993</td>\n",
       "    </tr>\n",
       "    <tr>\n",
       "      <th>hikmet</th>\n",
       "      <td>0.101748</td>\n",
       "      <td>-0.648054</td>\n",
       "      <td>-1.166647</td>\n",
       "      <td>-1.392824</td>\n",
       "      <td>-0.445862</td>\n",
       "    </tr>\n",
       "  </tbody>\n",
       "</table>\n",
       "</div>"
      ],
      "text/plain": [
       "            maas       yas  calisma saati      izin  cinsiyet\n",
       "eray   -0.367598 -1.834929      -1.142282  0.857739  1.337363\n",
       "arif    0.759327 -0.925023      -1.183685  1.531032 -0.414151\n",
       "Ennur  -1.002956  0.402761      -0.072571 -0.175960  0.562993\n",
       "hikmet  0.101748 -0.648054      -1.166647 -1.392824 -0.445862"
      ]
     },
     "execution_count": 18,
     "metadata": {},
     "output_type": "execute_result"
    }
   ],
   "source": [
    "yeniDataFrame = pd.DataFrame(data, index=[\"eray\",\"arif\",\"Ennur\",\"hikmet\"],columns=[\"maas\",\"yas\",\"calisma saati\",\"izin\",\"cinsiyet\"]) \n",
    "yeniDataFrame"
   ]
  },
  {
   "cell_type": "code",
   "execution_count": 20,
   "id": "86cd8a24",
   "metadata": {},
   "outputs": [
    {
     "data": {
      "text/plain": [
       "eray     -1.834929\n",
       "arif     -0.925023\n",
       "Ennur     0.402761\n",
       "hikmet   -0.648054\n",
       "Name: yas, dtype: float64"
      ]
     },
     "execution_count": 20,
     "metadata": {},
     "output_type": "execute_result"
    }
   ],
   "source": [
    "yeniDataFrame[\"yas\"]"
   ]
  },
  {
   "cell_type": "code",
   "execution_count": 21,
   "id": "a78f15d9",
   "metadata": {},
   "outputs": [
    {
     "data": {
      "text/plain": [
       "eray     -1.142282\n",
       "arif     -1.183685\n",
       "Ennur    -0.072571\n",
       "hikmet   -1.166647\n",
       "Name: calisma saati, dtype: float64"
      ]
     },
     "execution_count": 21,
     "metadata": {},
     "output_type": "execute_result"
    }
   ],
   "source": [
    "yeniDataFrame[\"calisma saati\"]"
   ]
  },
  {
   "cell_type": "code",
   "execution_count": 22,
   "id": "deb67c96",
   "metadata": {},
   "outputs": [
    {
     "data": {
      "text/html": [
       "<div>\n",
       "<style scoped>\n",
       "    .dataframe tbody tr th:only-of-type {\n",
       "        vertical-align: middle;\n",
       "    }\n",
       "\n",
       "    .dataframe tbody tr th {\n",
       "        vertical-align: top;\n",
       "    }\n",
       "\n",
       "    .dataframe thead th {\n",
       "        text-align: right;\n",
       "    }\n",
       "</style>\n",
       "<table border=\"1\" class=\"dataframe\">\n",
       "  <thead>\n",
       "    <tr style=\"text-align: right;\">\n",
       "      <th></th>\n",
       "      <th>yas</th>\n",
       "      <th>maas</th>\n",
       "    </tr>\n",
       "  </thead>\n",
       "  <tbody>\n",
       "    <tr>\n",
       "      <th>eray</th>\n",
       "      <td>-1.834929</td>\n",
       "      <td>-0.367598</td>\n",
       "    </tr>\n",
       "    <tr>\n",
       "      <th>arif</th>\n",
       "      <td>-0.925023</td>\n",
       "      <td>0.759327</td>\n",
       "    </tr>\n",
       "    <tr>\n",
       "      <th>Ennur</th>\n",
       "      <td>0.402761</td>\n",
       "      <td>-1.002956</td>\n",
       "    </tr>\n",
       "    <tr>\n",
       "      <th>hikmet</th>\n",
       "      <td>-0.648054</td>\n",
       "      <td>0.101748</td>\n",
       "    </tr>\n",
       "  </tbody>\n",
       "</table>\n",
       "</div>"
      ],
      "text/plain": [
       "             yas      maas\n",
       "eray   -1.834929 -0.367598\n",
       "arif   -0.925023  0.759327\n",
       "Ennur   0.402761 -1.002956\n",
       "hikmet -0.648054  0.101748"
      ]
     },
     "execution_count": 22,
     "metadata": {},
     "output_type": "execute_result"
    }
   ],
   "source": [
    "yeniDataFrame[[\"yas\",\"maas\"]]"
   ]
  },
  {
   "cell_type": "code",
   "execution_count": 23,
   "id": "54c6bb99",
   "metadata": {},
   "outputs": [
    {
     "data": {
      "text/plain": [
       "maas            -0.367598\n",
       "yas             -1.834929\n",
       "calisma saati   -1.142282\n",
       "izin             0.857739\n",
       "cinsiyet         1.337363\n",
       "Name: eray, dtype: float64"
      ]
     },
     "execution_count": 23,
     "metadata": {},
     "output_type": "execute_result"
    }
   ],
   "source": [
    "yeniDataFrame.loc[\"eray\"]"
   ]
  },
  {
   "cell_type": "code",
   "execution_count": 25,
   "id": "e744f38d",
   "metadata": {},
   "outputs": [
    {
     "data": {
      "text/plain": [
       "maas            -1.002956\n",
       "yas              0.402761\n",
       "calisma saati   -0.072571\n",
       "izin            -0.175960\n",
       "cinsiyet         0.562993\n",
       "Name: Ennur, dtype: float64"
      ]
     },
     "execution_count": 25,
     "metadata": {},
     "output_type": "execute_result"
    }
   ],
   "source": [
    "yeniDataFrame.loc[\"Ennur\"]"
   ]
  },
  {
   "cell_type": "code",
   "execution_count": 26,
   "id": "091b5010",
   "metadata": {},
   "outputs": [
    {
     "data": {
      "text/plain": [
       "maas             0.759327\n",
       "yas             -0.925023\n",
       "calisma saati   -1.183685\n",
       "izin             1.531032\n",
       "cinsiyet        -0.414151\n",
       "Name: arif, dtype: float64"
      ]
     },
     "execution_count": 26,
     "metadata": {},
     "output_type": "execute_result"
    }
   ],
   "source": [
    "yeniDataFrame.iloc[1]"
   ]
  },
  {
   "cell_type": "code",
   "execution_count": 27,
   "id": "6a60ec3b",
   "metadata": {},
   "outputs": [
    {
     "data": {
      "text/html": [
       "<div>\n",
       "<style scoped>\n",
       "    .dataframe tbody tr th:only-of-type {\n",
       "        vertical-align: middle;\n",
       "    }\n",
       "\n",
       "    .dataframe tbody tr th {\n",
       "        vertical-align: top;\n",
       "    }\n",
       "\n",
       "    .dataframe thead th {\n",
       "        text-align: right;\n",
       "    }\n",
       "</style>\n",
       "<table border=\"1\" class=\"dataframe\">\n",
       "  <thead>\n",
       "    <tr style=\"text-align: right;\">\n",
       "      <th></th>\n",
       "      <th>maas</th>\n",
       "      <th>yas</th>\n",
       "      <th>calisma saati</th>\n",
       "      <th>izin</th>\n",
       "      <th>cinsiyet</th>\n",
       "    </tr>\n",
       "  </thead>\n",
       "  <tbody>\n",
       "    <tr>\n",
       "      <th>eray</th>\n",
       "      <td>-0.367598</td>\n",
       "      <td>-1.834929</td>\n",
       "      <td>-1.142282</td>\n",
       "      <td>0.857739</td>\n",
       "      <td>1.337363</td>\n",
       "    </tr>\n",
       "    <tr>\n",
       "      <th>arif</th>\n",
       "      <td>0.759327</td>\n",
       "      <td>-0.925023</td>\n",
       "      <td>-1.183685</td>\n",
       "      <td>1.531032</td>\n",
       "      <td>-0.414151</td>\n",
       "    </tr>\n",
       "    <tr>\n",
       "      <th>Ennur</th>\n",
       "      <td>-1.002956</td>\n",
       "      <td>0.402761</td>\n",
       "      <td>-0.072571</td>\n",
       "      <td>-0.175960</td>\n",
       "      <td>0.562993</td>\n",
       "    </tr>\n",
       "    <tr>\n",
       "      <th>hikmet</th>\n",
       "      <td>0.101748</td>\n",
       "      <td>-0.648054</td>\n",
       "      <td>-1.166647</td>\n",
       "      <td>-1.392824</td>\n",
       "      <td>-0.445862</td>\n",
       "    </tr>\n",
       "  </tbody>\n",
       "</table>\n",
       "</div>"
      ],
      "text/plain": [
       "            maas       yas  calisma saati      izin  cinsiyet\n",
       "eray   -0.367598 -1.834929      -1.142282  0.857739  1.337363\n",
       "arif    0.759327 -0.925023      -1.183685  1.531032 -0.414151\n",
       "Ennur  -1.002956  0.402761      -0.072571 -0.175960  0.562993\n",
       "hikmet  0.101748 -0.648054      -1.166647 -1.392824 -0.445862"
      ]
     },
     "execution_count": 27,
     "metadata": {},
     "output_type": "execute_result"
    }
   ],
   "source": [
    "yeniDataFrame"
   ]
  },
  {
   "cell_type": "code",
   "execution_count": 28,
   "id": "c88f125d",
   "metadata": {},
   "outputs": [
    {
     "data": {
      "text/html": [
       "<div>\n",
       "<style scoped>\n",
       "    .dataframe tbody tr th:only-of-type {\n",
       "        vertical-align: middle;\n",
       "    }\n",
       "\n",
       "    .dataframe tbody tr th {\n",
       "        vertical-align: top;\n",
       "    }\n",
       "\n",
       "    .dataframe thead th {\n",
       "        text-align: right;\n",
       "    }\n",
       "</style>\n",
       "<table border=\"1\" class=\"dataframe\">\n",
       "  <thead>\n",
       "    <tr style=\"text-align: right;\">\n",
       "      <th></th>\n",
       "      <th>maas</th>\n",
       "      <th>yas</th>\n",
       "      <th>calisma saati</th>\n",
       "      <th>izin</th>\n",
       "      <th>cinsiyet</th>\n",
       "      <th>emeklilik yasi</th>\n",
       "    </tr>\n",
       "  </thead>\n",
       "  <tbody>\n",
       "    <tr>\n",
       "      <th>eray</th>\n",
       "      <td>-0.367598</td>\n",
       "      <td>-1.834929</td>\n",
       "      <td>-1.142282</td>\n",
       "      <td>0.857739</td>\n",
       "      <td>1.337363</td>\n",
       "      <td>-3.669858</td>\n",
       "    </tr>\n",
       "    <tr>\n",
       "      <th>arif</th>\n",
       "      <td>0.759327</td>\n",
       "      <td>-0.925023</td>\n",
       "      <td>-1.183685</td>\n",
       "      <td>1.531032</td>\n",
       "      <td>-0.414151</td>\n",
       "      <td>-1.850047</td>\n",
       "    </tr>\n",
       "    <tr>\n",
       "      <th>Ennur</th>\n",
       "      <td>-1.002956</td>\n",
       "      <td>0.402761</td>\n",
       "      <td>-0.072571</td>\n",
       "      <td>-0.175960</td>\n",
       "      <td>0.562993</td>\n",
       "      <td>0.805523</td>\n",
       "    </tr>\n",
       "    <tr>\n",
       "      <th>hikmet</th>\n",
       "      <td>0.101748</td>\n",
       "      <td>-0.648054</td>\n",
       "      <td>-1.166647</td>\n",
       "      <td>-1.392824</td>\n",
       "      <td>-0.445862</td>\n",
       "      <td>-1.296108</td>\n",
       "    </tr>\n",
       "  </tbody>\n",
       "</table>\n",
       "</div>"
      ],
      "text/plain": [
       "            maas       yas  calisma saati      izin  cinsiyet  emeklilik yasi\n",
       "eray   -0.367598 -1.834929      -1.142282  0.857739  1.337363       -3.669858\n",
       "arif    0.759327 -0.925023      -1.183685  1.531032 -0.414151       -1.850047\n",
       "Ennur  -1.002956  0.402761      -0.072571 -0.175960  0.562993        0.805523\n",
       "hikmet  0.101748 -0.648054      -1.166647 -1.392824 -0.445862       -1.296108"
      ]
     },
     "execution_count": 28,
     "metadata": {},
     "output_type": "execute_result"
    }
   ],
   "source": [
    "yeniDataFrame[\"emeklilik yasi\"] = yeniDataFrame[\"yas\"] + yeniDataFrame[\"yas\"]\n",
    "yeniDataFrame"
   ]
  },
  {
   "cell_type": "code",
   "execution_count": 33,
   "id": "9ec487c9",
   "metadata": {},
   "outputs": [
    {
     "data": {
      "text/html": [
       "<div>\n",
       "<style scoped>\n",
       "    .dataframe tbody tr th:only-of-type {\n",
       "        vertical-align: middle;\n",
       "    }\n",
       "\n",
       "    .dataframe tbody tr th {\n",
       "        vertical-align: top;\n",
       "    }\n",
       "\n",
       "    .dataframe thead th {\n",
       "        text-align: right;\n",
       "    }\n",
       "</style>\n",
       "<table border=\"1\" class=\"dataframe\">\n",
       "  <thead>\n",
       "    <tr style=\"text-align: right;\">\n",
       "      <th></th>\n",
       "      <th>maas</th>\n",
       "      <th>yas</th>\n",
       "      <th>calisma saati</th>\n",
       "      <th>izin</th>\n",
       "      <th>cinsiyet</th>\n",
       "    </tr>\n",
       "  </thead>\n",
       "  <tbody>\n",
       "    <tr>\n",
       "      <th>eray</th>\n",
       "      <td>-0.367598</td>\n",
       "      <td>-1.834929</td>\n",
       "      <td>-1.142282</td>\n",
       "      <td>0.857739</td>\n",
       "      <td>1.337363</td>\n",
       "    </tr>\n",
       "    <tr>\n",
       "      <th>arif</th>\n",
       "      <td>0.759327</td>\n",
       "      <td>-0.925023</td>\n",
       "      <td>-1.183685</td>\n",
       "      <td>1.531032</td>\n",
       "      <td>-0.414151</td>\n",
       "    </tr>\n",
       "    <tr>\n",
       "      <th>Ennur</th>\n",
       "      <td>-1.002956</td>\n",
       "      <td>0.402761</td>\n",
       "      <td>-0.072571</td>\n",
       "      <td>-0.175960</td>\n",
       "      <td>0.562993</td>\n",
       "    </tr>\n",
       "    <tr>\n",
       "      <th>hikmet</th>\n",
       "      <td>0.101748</td>\n",
       "      <td>-0.648054</td>\n",
       "      <td>-1.166647</td>\n",
       "      <td>-1.392824</td>\n",
       "      <td>-0.445862</td>\n",
       "    </tr>\n",
       "  </tbody>\n",
       "</table>\n",
       "</div>"
      ],
      "text/plain": [
       "            maas       yas  calisma saati      izin  cinsiyet\n",
       "eray   -0.367598 -1.834929      -1.142282  0.857739  1.337363\n",
       "arif    0.759327 -0.925023      -1.183685  1.531032 -0.414151\n",
       "Ennur  -1.002956  0.402761      -0.072571 -0.175960  0.562993\n",
       "hikmet  0.101748 -0.648054      -1.166647 -1.392824 -0.445862"
      ]
     },
     "execution_count": 33,
     "metadata": {},
     "output_type": "execute_result"
    }
   ],
   "source": [
    "yeniDataFrame.drop(\"emeklilik yasi\", axis=1)"
   ]
  },
  {
   "cell_type": "code",
   "execution_count": 35,
   "id": "0b3a4d8e",
   "metadata": {},
   "outputs": [
    {
     "data": {
      "text/html": [
       "<div>\n",
       "<style scoped>\n",
       "    .dataframe tbody tr th:only-of-type {\n",
       "        vertical-align: middle;\n",
       "    }\n",
       "\n",
       "    .dataframe tbody tr th {\n",
       "        vertical-align: top;\n",
       "    }\n",
       "\n",
       "    .dataframe thead th {\n",
       "        text-align: right;\n",
       "    }\n",
       "</style>\n",
       "<table border=\"1\" class=\"dataframe\">\n",
       "  <thead>\n",
       "    <tr style=\"text-align: right;\">\n",
       "      <th></th>\n",
       "      <th>maas</th>\n",
       "      <th>yas</th>\n",
       "      <th>calisma saati</th>\n",
       "      <th>izin</th>\n",
       "      <th>cinsiyet</th>\n",
       "      <th>emeklilik yasi</th>\n",
       "    </tr>\n",
       "  </thead>\n",
       "  <tbody>\n",
       "    <tr>\n",
       "      <th>arif</th>\n",
       "      <td>0.759327</td>\n",
       "      <td>-0.925023</td>\n",
       "      <td>-1.183685</td>\n",
       "      <td>1.531032</td>\n",
       "      <td>-0.414151</td>\n",
       "      <td>-1.850047</td>\n",
       "    </tr>\n",
       "    <tr>\n",
       "      <th>Ennur</th>\n",
       "      <td>-1.002956</td>\n",
       "      <td>0.402761</td>\n",
       "      <td>-0.072571</td>\n",
       "      <td>-0.175960</td>\n",
       "      <td>0.562993</td>\n",
       "      <td>0.805523</td>\n",
       "    </tr>\n",
       "    <tr>\n",
       "      <th>hikmet</th>\n",
       "      <td>0.101748</td>\n",
       "      <td>-0.648054</td>\n",
       "      <td>-1.166647</td>\n",
       "      <td>-1.392824</td>\n",
       "      <td>-0.445862</td>\n",
       "      <td>-1.296108</td>\n",
       "    </tr>\n",
       "  </tbody>\n",
       "</table>\n",
       "</div>"
      ],
      "text/plain": [
       "            maas       yas  calisma saati      izin  cinsiyet  emeklilik yasi\n",
       "arif    0.759327 -0.925023      -1.183685  1.531032 -0.414151       -1.850047\n",
       "Ennur  -1.002956  0.402761      -0.072571 -0.175960  0.562993        0.805523\n",
       "hikmet  0.101748 -0.648054      -1.166647 -1.392824 -0.445862       -1.296108"
      ]
     },
     "execution_count": 35,
     "metadata": {},
     "output_type": "execute_result"
    }
   ],
   "source": [
    "yeniDataFrame.drop(\"eray\", axis=0)"
   ]
  },
  {
   "cell_type": "code",
   "execution_count": 43,
   "id": "27d27068",
   "metadata": {},
   "outputs": [
    {
     "data": {
      "text/html": [
       "<div>\n",
       "<style scoped>\n",
       "    .dataframe tbody tr th:only-of-type {\n",
       "        vertical-align: middle;\n",
       "    }\n",
       "\n",
       "    .dataframe tbody tr th {\n",
       "        vertical-align: top;\n",
       "    }\n",
       "\n",
       "    .dataframe thead th {\n",
       "        text-align: right;\n",
       "    }\n",
       "</style>\n",
       "<table border=\"1\" class=\"dataframe\">\n",
       "  <thead>\n",
       "    <tr style=\"text-align: right;\">\n",
       "      <th></th>\n",
       "      <th>maas</th>\n",
       "      <th>yas</th>\n",
       "      <th>calisma saati</th>\n",
       "      <th>izin</th>\n",
       "      <th>cinsiyet</th>\n",
       "    </tr>\n",
       "  </thead>\n",
       "  <tbody>\n",
       "    <tr>\n",
       "      <th>eray</th>\n",
       "      <td>-0.367598</td>\n",
       "      <td>-1.834929</td>\n",
       "      <td>-1.142282</td>\n",
       "      <td>0.857739</td>\n",
       "      <td>1.337363</td>\n",
       "    </tr>\n",
       "    <tr>\n",
       "      <th>arif</th>\n",
       "      <td>0.759327</td>\n",
       "      <td>-0.925023</td>\n",
       "      <td>-1.183685</td>\n",
       "      <td>1.531032</td>\n",
       "      <td>-0.414151</td>\n",
       "    </tr>\n",
       "    <tr>\n",
       "      <th>Ennur</th>\n",
       "      <td>-1.002956</td>\n",
       "      <td>0.402761</td>\n",
       "      <td>-0.072571</td>\n",
       "      <td>-0.175960</td>\n",
       "      <td>0.562993</td>\n",
       "    </tr>\n",
       "    <tr>\n",
       "      <th>hikmet</th>\n",
       "      <td>0.101748</td>\n",
       "      <td>-0.648054</td>\n",
       "      <td>-1.166647</td>\n",
       "      <td>-1.392824</td>\n",
       "      <td>-0.445862</td>\n",
       "    </tr>\n",
       "  </tbody>\n",
       "</table>\n",
       "</div>"
      ],
      "text/plain": [
       "            maas       yas  calisma saati      izin  cinsiyet\n",
       "eray   -0.367598 -1.834929      -1.142282  0.857739  1.337363\n",
       "arif    0.759327 -0.925023      -1.183685  1.531032 -0.414151\n",
       "Ennur  -1.002956  0.402761      -0.072571 -0.175960  0.562993\n",
       "hikmet  0.101748 -0.648054      -1.166647 -1.392824 -0.445862"
      ]
     },
     "execution_count": 43,
     "metadata": {},
     "output_type": "execute_result"
    }
   ],
   "source": [
    "yeniDataFrame"
   ]
  },
  {
   "cell_type": "code",
   "execution_count": 46,
   "id": "572e628b",
   "metadata": {},
   "outputs": [],
   "source": [
    "yeniDataFrame.drop(\"cinsiyet\", axis=1, inplace=True)"
   ]
  },
  {
   "cell_type": "code",
   "execution_count": 47,
   "id": "430c791a",
   "metadata": {},
   "outputs": [
    {
     "data": {
      "text/html": [
       "<div>\n",
       "<style scoped>\n",
       "    .dataframe tbody tr th:only-of-type {\n",
       "        vertical-align: middle;\n",
       "    }\n",
       "\n",
       "    .dataframe tbody tr th {\n",
       "        vertical-align: top;\n",
       "    }\n",
       "\n",
       "    .dataframe thead th {\n",
       "        text-align: right;\n",
       "    }\n",
       "</style>\n",
       "<table border=\"1\" class=\"dataframe\">\n",
       "  <thead>\n",
       "    <tr style=\"text-align: right;\">\n",
       "      <th></th>\n",
       "      <th>maas</th>\n",
       "      <th>yas</th>\n",
       "      <th>calisma saati</th>\n",
       "      <th>izin</th>\n",
       "    </tr>\n",
       "  </thead>\n",
       "  <tbody>\n",
       "    <tr>\n",
       "      <th>eray</th>\n",
       "      <td>-0.367598</td>\n",
       "      <td>-1.834929</td>\n",
       "      <td>-1.142282</td>\n",
       "      <td>0.857739</td>\n",
       "    </tr>\n",
       "    <tr>\n",
       "      <th>arif</th>\n",
       "      <td>0.759327</td>\n",
       "      <td>-0.925023</td>\n",
       "      <td>-1.183685</td>\n",
       "      <td>1.531032</td>\n",
       "    </tr>\n",
       "    <tr>\n",
       "      <th>Ennur</th>\n",
       "      <td>-1.002956</td>\n",
       "      <td>0.402761</td>\n",
       "      <td>-0.072571</td>\n",
       "      <td>-0.175960</td>\n",
       "    </tr>\n",
       "    <tr>\n",
       "      <th>hikmet</th>\n",
       "      <td>0.101748</td>\n",
       "      <td>-0.648054</td>\n",
       "      <td>-1.166647</td>\n",
       "      <td>-1.392824</td>\n",
       "    </tr>\n",
       "  </tbody>\n",
       "</table>\n",
       "</div>"
      ],
      "text/plain": [
       "            maas       yas  calisma saati      izin\n",
       "eray   -0.367598 -1.834929      -1.142282  0.857739\n",
       "arif    0.759327 -0.925023      -1.183685  1.531032\n",
       "Ennur  -1.002956  0.402761      -0.072571 -0.175960\n",
       "hikmet  0.101748 -0.648054      -1.166647 -1.392824"
      ]
     },
     "execution_count": 47,
     "metadata": {},
     "output_type": "execute_result"
    }
   ],
   "source": [
    "yeniDataFrame"
   ]
  },
  {
   "cell_type": "code",
   "execution_count": 48,
   "id": "7cd3a450",
   "metadata": {},
   "outputs": [
    {
     "data": {
      "text/plain": [
       "maas            -0.367598\n",
       "yas             -1.834929\n",
       "calisma saati   -1.142282\n",
       "izin             0.857739\n",
       "Name: eray, dtype: float64"
      ]
     },
     "execution_count": 48,
     "metadata": {},
     "output_type": "execute_result"
    }
   ],
   "source": [
    "yeniDataFrame.loc[\"eray\"]"
   ]
  },
  {
   "cell_type": "code",
   "execution_count": 49,
   "id": "b9fc5c4c",
   "metadata": {},
   "outputs": [
    {
     "data": {
      "text/plain": [
       "-1.8349290935078855"
      ]
     },
     "execution_count": 49,
     "metadata": {},
     "output_type": "execute_result"
    }
   ],
   "source": [
    "yeniDataFrame.loc[\"eray\"][\"yas\"]"
   ]
  },
  {
   "cell_type": "code",
   "execution_count": 50,
   "id": "e37520df",
   "metadata": {},
   "outputs": [
    {
     "data": {
      "text/html": [
       "<div>\n",
       "<style scoped>\n",
       "    .dataframe tbody tr th:only-of-type {\n",
       "        vertical-align: middle;\n",
       "    }\n",
       "\n",
       "    .dataframe tbody tr th {\n",
       "        vertical-align: top;\n",
       "    }\n",
       "\n",
       "    .dataframe thead th {\n",
       "        text-align: right;\n",
       "    }\n",
       "</style>\n",
       "<table border=\"1\" class=\"dataframe\">\n",
       "  <thead>\n",
       "    <tr style=\"text-align: right;\">\n",
       "      <th></th>\n",
       "      <th>maas</th>\n",
       "      <th>yas</th>\n",
       "      <th>calisma saati</th>\n",
       "      <th>izin</th>\n",
       "    </tr>\n",
       "  </thead>\n",
       "  <tbody>\n",
       "    <tr>\n",
       "      <th>eray</th>\n",
       "      <td>-0.367598</td>\n",
       "      <td>-1.834929</td>\n",
       "      <td>-1.142282</td>\n",
       "      <td>0.857739</td>\n",
       "    </tr>\n",
       "    <tr>\n",
       "      <th>arif</th>\n",
       "      <td>0.759327</td>\n",
       "      <td>-0.925023</td>\n",
       "      <td>-1.183685</td>\n",
       "      <td>1.531032</td>\n",
       "    </tr>\n",
       "    <tr>\n",
       "      <th>Ennur</th>\n",
       "      <td>-1.002956</td>\n",
       "      <td>0.402761</td>\n",
       "      <td>-0.072571</td>\n",
       "      <td>-0.175960</td>\n",
       "    </tr>\n",
       "    <tr>\n",
       "      <th>hikmet</th>\n",
       "      <td>0.101748</td>\n",
       "      <td>-0.648054</td>\n",
       "      <td>-1.166647</td>\n",
       "      <td>-1.392824</td>\n",
       "    </tr>\n",
       "  </tbody>\n",
       "</table>\n",
       "</div>"
      ],
      "text/plain": [
       "            maas       yas  calisma saati      izin\n",
       "eray   -0.367598 -1.834929      -1.142282  0.857739\n",
       "arif    0.759327 -0.925023      -1.183685  1.531032\n",
       "Ennur  -1.002956  0.402761      -0.072571 -0.175960\n",
       "hikmet  0.101748 -0.648054      -1.166647 -1.392824"
      ]
     },
     "execution_count": 50,
     "metadata": {},
     "output_type": "execute_result"
    }
   ],
   "source": [
    "yeniDataFrame"
   ]
  },
  {
   "cell_type": "code",
   "execution_count": 53,
   "id": "f8ff876d",
   "metadata": {},
   "outputs": [],
   "source": [
    "booleanFrame=yeniDataFrame < 0"
   ]
  },
  {
   "cell_type": "code",
   "execution_count": 54,
   "id": "379aeccd",
   "metadata": {},
   "outputs": [
    {
     "data": {
      "text/html": [
       "<div>\n",
       "<style scoped>\n",
       "    .dataframe tbody tr th:only-of-type {\n",
       "        vertical-align: middle;\n",
       "    }\n",
       "\n",
       "    .dataframe tbody tr th {\n",
       "        vertical-align: top;\n",
       "    }\n",
       "\n",
       "    .dataframe thead th {\n",
       "        text-align: right;\n",
       "    }\n",
       "</style>\n",
       "<table border=\"1\" class=\"dataframe\">\n",
       "  <thead>\n",
       "    <tr style=\"text-align: right;\">\n",
       "      <th></th>\n",
       "      <th>maas</th>\n",
       "      <th>yas</th>\n",
       "      <th>calisma saati</th>\n",
       "      <th>izin</th>\n",
       "    </tr>\n",
       "  </thead>\n",
       "  <tbody>\n",
       "    <tr>\n",
       "      <th>eray</th>\n",
       "      <td>True</td>\n",
       "      <td>True</td>\n",
       "      <td>True</td>\n",
       "      <td>False</td>\n",
       "    </tr>\n",
       "    <tr>\n",
       "      <th>arif</th>\n",
       "      <td>False</td>\n",
       "      <td>True</td>\n",
       "      <td>True</td>\n",
       "      <td>False</td>\n",
       "    </tr>\n",
       "    <tr>\n",
       "      <th>Ennur</th>\n",
       "      <td>True</td>\n",
       "      <td>False</td>\n",
       "      <td>True</td>\n",
       "      <td>True</td>\n",
       "    </tr>\n",
       "    <tr>\n",
       "      <th>hikmet</th>\n",
       "      <td>False</td>\n",
       "      <td>True</td>\n",
       "      <td>True</td>\n",
       "      <td>True</td>\n",
       "    </tr>\n",
       "  </tbody>\n",
       "</table>\n",
       "</div>"
      ],
      "text/plain": [
       "         maas    yas  calisma saati   izin\n",
       "eray     True   True           True  False\n",
       "arif    False   True           True  False\n",
       "Ennur    True  False           True   True\n",
       "hikmet  False   True           True   True"
      ]
     },
     "execution_count": 54,
     "metadata": {},
     "output_type": "execute_result"
    }
   ],
   "source": [
    "booleanFrame"
   ]
  },
  {
   "cell_type": "code",
   "execution_count": 55,
   "id": "5c7cdc3b",
   "metadata": {},
   "outputs": [
    {
     "data": {
      "text/html": [
       "<div>\n",
       "<style scoped>\n",
       "    .dataframe tbody tr th:only-of-type {\n",
       "        vertical-align: middle;\n",
       "    }\n",
       "\n",
       "    .dataframe tbody tr th {\n",
       "        vertical-align: top;\n",
       "    }\n",
       "\n",
       "    .dataframe thead th {\n",
       "        text-align: right;\n",
       "    }\n",
       "</style>\n",
       "<table border=\"1\" class=\"dataframe\">\n",
       "  <thead>\n",
       "    <tr style=\"text-align: right;\">\n",
       "      <th></th>\n",
       "      <th>maas</th>\n",
       "      <th>yas</th>\n",
       "      <th>calisma saati</th>\n",
       "      <th>izin</th>\n",
       "    </tr>\n",
       "  </thead>\n",
       "  <tbody>\n",
       "    <tr>\n",
       "      <th>eray</th>\n",
       "      <td>-0.367598</td>\n",
       "      <td>-1.834929</td>\n",
       "      <td>-1.142282</td>\n",
       "      <td>NaN</td>\n",
       "    </tr>\n",
       "    <tr>\n",
       "      <th>arif</th>\n",
       "      <td>NaN</td>\n",
       "      <td>-0.925023</td>\n",
       "      <td>-1.183685</td>\n",
       "      <td>NaN</td>\n",
       "    </tr>\n",
       "    <tr>\n",
       "      <th>Ennur</th>\n",
       "      <td>-1.002956</td>\n",
       "      <td>NaN</td>\n",
       "      <td>-0.072571</td>\n",
       "      <td>-0.175960</td>\n",
       "    </tr>\n",
       "    <tr>\n",
       "      <th>hikmet</th>\n",
       "      <td>NaN</td>\n",
       "      <td>-0.648054</td>\n",
       "      <td>-1.166647</td>\n",
       "      <td>-1.392824</td>\n",
       "    </tr>\n",
       "  </tbody>\n",
       "</table>\n",
       "</div>"
      ],
      "text/plain": [
       "            maas       yas  calisma saati      izin\n",
       "eray   -0.367598 -1.834929      -1.142282       NaN\n",
       "arif         NaN -0.925023      -1.183685       NaN\n",
       "Ennur  -1.002956       NaN      -0.072571 -0.175960\n",
       "hikmet       NaN -0.648054      -1.166647 -1.392824"
      ]
     },
     "execution_count": 55,
     "metadata": {},
     "output_type": "execute_result"
    }
   ],
   "source": [
    "yeniDataFrame[booleanFrame]"
   ]
  },
  {
   "cell_type": "code",
   "execution_count": 56,
   "id": "22a9fa0e",
   "metadata": {},
   "outputs": [
    {
     "data": {
      "text/html": [
       "<div>\n",
       "<style scoped>\n",
       "    .dataframe tbody tr th:only-of-type {\n",
       "        vertical-align: middle;\n",
       "    }\n",
       "\n",
       "    .dataframe tbody tr th {\n",
       "        vertical-align: top;\n",
       "    }\n",
       "\n",
       "    .dataframe thead th {\n",
       "        text-align: right;\n",
       "    }\n",
       "</style>\n",
       "<table border=\"1\" class=\"dataframe\">\n",
       "  <thead>\n",
       "    <tr style=\"text-align: right;\">\n",
       "      <th></th>\n",
       "      <th>maas</th>\n",
       "      <th>yas</th>\n",
       "      <th>calisma saati</th>\n",
       "      <th>izin</th>\n",
       "    </tr>\n",
       "  </thead>\n",
       "  <tbody>\n",
       "    <tr>\n",
       "      <th>eray</th>\n",
       "      <td>-0.367598</td>\n",
       "      <td>-1.834929</td>\n",
       "      <td>-1.142282</td>\n",
       "      <td>0.857739</td>\n",
       "    </tr>\n",
       "    <tr>\n",
       "      <th>arif</th>\n",
       "      <td>0.759327</td>\n",
       "      <td>-0.925023</td>\n",
       "      <td>-1.183685</td>\n",
       "      <td>1.531032</td>\n",
       "    </tr>\n",
       "    <tr>\n",
       "      <th>Ennur</th>\n",
       "      <td>-1.002956</td>\n",
       "      <td>0.402761</td>\n",
       "      <td>-0.072571</td>\n",
       "      <td>-0.175960</td>\n",
       "    </tr>\n",
       "    <tr>\n",
       "      <th>hikmet</th>\n",
       "      <td>0.101748</td>\n",
       "      <td>-0.648054</td>\n",
       "      <td>-1.166647</td>\n",
       "      <td>-1.392824</td>\n",
       "    </tr>\n",
       "  </tbody>\n",
       "</table>\n",
       "</div>"
      ],
      "text/plain": [
       "            maas       yas  calisma saati      izin\n",
       "eray   -0.367598 -1.834929      -1.142282  0.857739\n",
       "arif    0.759327 -0.925023      -1.183685  1.531032\n",
       "Ennur  -1.002956  0.402761      -0.072571 -0.175960\n",
       "hikmet  0.101748 -0.648054      -1.166647 -1.392824"
      ]
     },
     "execution_count": 56,
     "metadata": {},
     "output_type": "execute_result"
    }
   ],
   "source": [
    "yeniDataFrame"
   ]
  },
  {
   "cell_type": "code",
   "execution_count": 57,
   "id": "aa640c56",
   "metadata": {},
   "outputs": [
    {
     "data": {
      "text/html": [
       "<div>\n",
       "<style scoped>\n",
       "    .dataframe tbody tr th:only-of-type {\n",
       "        vertical-align: middle;\n",
       "    }\n",
       "\n",
       "    .dataframe tbody tr th {\n",
       "        vertical-align: top;\n",
       "    }\n",
       "\n",
       "    .dataframe thead th {\n",
       "        text-align: right;\n",
       "    }\n",
       "</style>\n",
       "<table border=\"1\" class=\"dataframe\">\n",
       "  <thead>\n",
       "    <tr style=\"text-align: right;\">\n",
       "      <th></th>\n",
       "      <th>index</th>\n",
       "      <th>maas</th>\n",
       "      <th>yas</th>\n",
       "      <th>calisma saati</th>\n",
       "      <th>izin</th>\n",
       "    </tr>\n",
       "  </thead>\n",
       "  <tbody>\n",
       "    <tr>\n",
       "      <th>0</th>\n",
       "      <td>eray</td>\n",
       "      <td>-0.367598</td>\n",
       "      <td>-1.834929</td>\n",
       "      <td>-1.142282</td>\n",
       "      <td>0.857739</td>\n",
       "    </tr>\n",
       "    <tr>\n",
       "      <th>1</th>\n",
       "      <td>arif</td>\n",
       "      <td>0.759327</td>\n",
       "      <td>-0.925023</td>\n",
       "      <td>-1.183685</td>\n",
       "      <td>1.531032</td>\n",
       "    </tr>\n",
       "    <tr>\n",
       "      <th>2</th>\n",
       "      <td>Ennur</td>\n",
       "      <td>-1.002956</td>\n",
       "      <td>0.402761</td>\n",
       "      <td>-0.072571</td>\n",
       "      <td>-0.175960</td>\n",
       "    </tr>\n",
       "    <tr>\n",
       "      <th>3</th>\n",
       "      <td>hikmet</td>\n",
       "      <td>0.101748</td>\n",
       "      <td>-0.648054</td>\n",
       "      <td>-1.166647</td>\n",
       "      <td>-1.392824</td>\n",
       "    </tr>\n",
       "  </tbody>\n",
       "</table>\n",
       "</div>"
      ],
      "text/plain": [
       "    index      maas       yas  calisma saati      izin\n",
       "0    eray -0.367598 -1.834929      -1.142282  0.857739\n",
       "1    arif  0.759327 -0.925023      -1.183685  1.531032\n",
       "2   Ennur -1.002956  0.402761      -0.072571 -0.175960\n",
       "3  hikmet  0.101748 -0.648054      -1.166647 -1.392824"
      ]
     },
     "execution_count": 57,
     "metadata": {},
     "output_type": "execute_result"
    }
   ],
   "source": [
    "yeniDataFrame.reset_index()"
   ]
  },
  {
   "cell_type": "code",
   "execution_count": 58,
   "id": "8e3ce60d",
   "metadata": {},
   "outputs": [],
   "source": [
    "yeniIndexListesi = [\"Er\",\"En\",\"Ar\",\"Meh\"]"
   ]
  },
  {
   "cell_type": "code",
   "execution_count": 60,
   "id": "8de61ead",
   "metadata": {},
   "outputs": [
    {
     "data": {
      "text/html": [
       "<div>\n",
       "<style scoped>\n",
       "    .dataframe tbody tr th:only-of-type {\n",
       "        vertical-align: middle;\n",
       "    }\n",
       "\n",
       "    .dataframe tbody tr th {\n",
       "        vertical-align: top;\n",
       "    }\n",
       "\n",
       "    .dataframe thead th {\n",
       "        text-align: right;\n",
       "    }\n",
       "</style>\n",
       "<table border=\"1\" class=\"dataframe\">\n",
       "  <thead>\n",
       "    <tr style=\"text-align: right;\">\n",
       "      <th></th>\n",
       "      <th>maas</th>\n",
       "      <th>yas</th>\n",
       "      <th>calisma saati</th>\n",
       "      <th>izin</th>\n",
       "      <th>yeni Index</th>\n",
       "    </tr>\n",
       "  </thead>\n",
       "  <tbody>\n",
       "    <tr>\n",
       "      <th>eray</th>\n",
       "      <td>-0.367598</td>\n",
       "      <td>-1.834929</td>\n",
       "      <td>-1.142282</td>\n",
       "      <td>0.857739</td>\n",
       "      <td>Er</td>\n",
       "    </tr>\n",
       "    <tr>\n",
       "      <th>arif</th>\n",
       "      <td>0.759327</td>\n",
       "      <td>-0.925023</td>\n",
       "      <td>-1.183685</td>\n",
       "      <td>1.531032</td>\n",
       "      <td>En</td>\n",
       "    </tr>\n",
       "    <tr>\n",
       "      <th>Ennur</th>\n",
       "      <td>-1.002956</td>\n",
       "      <td>0.402761</td>\n",
       "      <td>-0.072571</td>\n",
       "      <td>-0.175960</td>\n",
       "      <td>Ar</td>\n",
       "    </tr>\n",
       "    <tr>\n",
       "      <th>hikmet</th>\n",
       "      <td>0.101748</td>\n",
       "      <td>-0.648054</td>\n",
       "      <td>-1.166647</td>\n",
       "      <td>-1.392824</td>\n",
       "      <td>Meh</td>\n",
       "    </tr>\n",
       "  </tbody>\n",
       "</table>\n",
       "</div>"
      ],
      "text/plain": [
       "            maas       yas  calisma saati      izin yeni Index\n",
       "eray   -0.367598 -1.834929      -1.142282  0.857739         Er\n",
       "arif    0.759327 -0.925023      -1.183685  1.531032         En\n",
       "Ennur  -1.002956  0.402761      -0.072571 -0.175960         Ar\n",
       "hikmet  0.101748 -0.648054      -1.166647 -1.392824        Meh"
      ]
     },
     "execution_count": 60,
     "metadata": {},
     "output_type": "execute_result"
    }
   ],
   "source": [
    "yeniDataFrame[\"yeni Index\"] = yeniIndexListesi\n",
    "yeniDataFrame"
   ]
  },
  {
   "cell_type": "code",
   "execution_count": 61,
   "id": "47ba84ee",
   "metadata": {},
   "outputs": [
    {
     "data": {
      "text/html": [
       "<div>\n",
       "<style scoped>\n",
       "    .dataframe tbody tr th:only-of-type {\n",
       "        vertical-align: middle;\n",
       "    }\n",
       "\n",
       "    .dataframe tbody tr th {\n",
       "        vertical-align: top;\n",
       "    }\n",
       "\n",
       "    .dataframe thead th {\n",
       "        text-align: right;\n",
       "    }\n",
       "</style>\n",
       "<table border=\"1\" class=\"dataframe\">\n",
       "  <thead>\n",
       "    <tr style=\"text-align: right;\">\n",
       "      <th></th>\n",
       "      <th>maas</th>\n",
       "      <th>yas</th>\n",
       "      <th>calisma saati</th>\n",
       "      <th>izin</th>\n",
       "    </tr>\n",
       "    <tr>\n",
       "      <th>yeni Index</th>\n",
       "      <th></th>\n",
       "      <th></th>\n",
       "      <th></th>\n",
       "      <th></th>\n",
       "    </tr>\n",
       "  </thead>\n",
       "  <tbody>\n",
       "    <tr>\n",
       "      <th>Er</th>\n",
       "      <td>-0.367598</td>\n",
       "      <td>-1.834929</td>\n",
       "      <td>-1.142282</td>\n",
       "      <td>0.857739</td>\n",
       "    </tr>\n",
       "    <tr>\n",
       "      <th>En</th>\n",
       "      <td>0.759327</td>\n",
       "      <td>-0.925023</td>\n",
       "      <td>-1.183685</td>\n",
       "      <td>1.531032</td>\n",
       "    </tr>\n",
       "    <tr>\n",
       "      <th>Ar</th>\n",
       "      <td>-1.002956</td>\n",
       "      <td>0.402761</td>\n",
       "      <td>-0.072571</td>\n",
       "      <td>-0.175960</td>\n",
       "    </tr>\n",
       "    <tr>\n",
       "      <th>Meh</th>\n",
       "      <td>0.101748</td>\n",
       "      <td>-0.648054</td>\n",
       "      <td>-1.166647</td>\n",
       "      <td>-1.392824</td>\n",
       "    </tr>\n",
       "  </tbody>\n",
       "</table>\n",
       "</div>"
      ],
      "text/plain": [
       "                maas       yas  calisma saati      izin\n",
       "yeni Index                                             \n",
       "Er         -0.367598 -1.834929      -1.142282  0.857739\n",
       "En          0.759327 -0.925023      -1.183685  1.531032\n",
       "Ar         -1.002956  0.402761      -0.072571 -0.175960\n",
       "Meh         0.101748 -0.648054      -1.166647 -1.392824"
      ]
     },
     "execution_count": 61,
     "metadata": {},
     "output_type": "execute_result"
    }
   ],
   "source": [
    "yeniDataFrame.set_index(\"yeni Index\")"
   ]
  },
  {
   "cell_type": "code",
   "execution_count": 62,
   "id": "02c53477",
   "metadata": {},
   "outputs": [],
   "source": [
    "yeniDataFrame.set_index(\"yeni Index\", inplace=True)\n"
   ]
  },
  {
   "cell_type": "code",
   "execution_count": 63,
   "id": "f1a09c48",
   "metadata": {},
   "outputs": [
    {
     "data": {
      "text/html": [
       "<div>\n",
       "<style scoped>\n",
       "    .dataframe tbody tr th:only-of-type {\n",
       "        vertical-align: middle;\n",
       "    }\n",
       "\n",
       "    .dataframe tbody tr th {\n",
       "        vertical-align: top;\n",
       "    }\n",
       "\n",
       "    .dataframe thead th {\n",
       "        text-align: right;\n",
       "    }\n",
       "</style>\n",
       "<table border=\"1\" class=\"dataframe\">\n",
       "  <thead>\n",
       "    <tr style=\"text-align: right;\">\n",
       "      <th></th>\n",
       "      <th>maas</th>\n",
       "      <th>yas</th>\n",
       "      <th>calisma saati</th>\n",
       "      <th>izin</th>\n",
       "    </tr>\n",
       "    <tr>\n",
       "      <th>yeni Index</th>\n",
       "      <th></th>\n",
       "      <th></th>\n",
       "      <th></th>\n",
       "      <th></th>\n",
       "    </tr>\n",
       "  </thead>\n",
       "  <tbody>\n",
       "    <tr>\n",
       "      <th>Er</th>\n",
       "      <td>-0.367598</td>\n",
       "      <td>-1.834929</td>\n",
       "      <td>-1.142282</td>\n",
       "      <td>0.857739</td>\n",
       "    </tr>\n",
       "    <tr>\n",
       "      <th>En</th>\n",
       "      <td>0.759327</td>\n",
       "      <td>-0.925023</td>\n",
       "      <td>-1.183685</td>\n",
       "      <td>1.531032</td>\n",
       "    </tr>\n",
       "    <tr>\n",
       "      <th>Ar</th>\n",
       "      <td>-1.002956</td>\n",
       "      <td>0.402761</td>\n",
       "      <td>-0.072571</td>\n",
       "      <td>-0.175960</td>\n",
       "    </tr>\n",
       "    <tr>\n",
       "      <th>Meh</th>\n",
       "      <td>0.101748</td>\n",
       "      <td>-0.648054</td>\n",
       "      <td>-1.166647</td>\n",
       "      <td>-1.392824</td>\n",
       "    </tr>\n",
       "  </tbody>\n",
       "</table>\n",
       "</div>"
      ],
      "text/plain": [
       "                maas       yas  calisma saati      izin\n",
       "yeni Index                                             \n",
       "Er         -0.367598 -1.834929      -1.142282  0.857739\n",
       "En          0.759327 -0.925023      -1.183685  1.531032\n",
       "Ar         -1.002956  0.402761      -0.072571 -0.175960\n",
       "Meh         0.101748 -0.648054      -1.166647 -1.392824"
      ]
     },
     "execution_count": 63,
     "metadata": {},
     "output_type": "execute_result"
    }
   ],
   "source": [
    "yeniDataFrame"
   ]
  },
  {
   "cell_type": "code",
   "execution_count": 65,
   "id": "a32869c6",
   "metadata": {},
   "outputs": [
    {
     "data": {
      "text/plain": [
       "maas            -0.367598\n",
       "yas             -1.834929\n",
       "calisma saati   -1.142282\n",
       "izin             0.857739\n",
       "Name: Er, dtype: float64"
      ]
     },
     "execution_count": 65,
     "metadata": {},
     "output_type": "execute_result"
    }
   ],
   "source": [
    "yeniDataFrame.loc[\"Er\"]"
   ]
  },
  {
   "cell_type": "code",
   "execution_count": 66,
   "id": "d06cc8fd",
   "metadata": {},
   "outputs": [],
   "source": [
    "ilkIndexler = [\"Simpson\",\"Simpson\",\"Simpson\",\n",
    "              \"South Park\", \"South Park\", \"South Park\"]"
   ]
  },
  {
   "cell_type": "code",
   "execution_count": 67,
   "id": "092febf2",
   "metadata": {},
   "outputs": [],
   "source": [
    "icIndexler = [\"Homer\",\"Bart\",\" Marge\",\"Cartman\",\"Kenny\",\"Kyle\"]"
   ]
  },
  {
   "cell_type": "code",
   "execution_count": 69,
   "id": "97ae8d40",
   "metadata": {},
   "outputs": [
    {
     "data": {
      "text/plain": [
       "[('Simpson', 'Homer'),\n",
       " ('Simpson', 'Bart'),\n",
       " ('Simpson', ' Marge'),\n",
       " ('South Park', 'Cartman'),\n",
       " ('South Park', 'Kenny'),\n",
       " ('South Park', 'Kyle')]"
      ]
     },
     "execution_count": 69,
     "metadata": {},
     "output_type": "execute_result"
    }
   ],
   "source": [
    "birlesmisIndex = list(zip(ilkIndexler, icIndexler))\n",
    "birlesmisIndex"
   ]
  },
  {
   "cell_type": "code",
   "execution_count": 71,
   "id": "c4ce93e9",
   "metadata": {},
   "outputs": [],
   "source": [
    "birlesmisIndex = pd.MultiIndex.from_tuples(birlesmiIndex)"
   ]
  },
  {
   "cell_type": "code",
   "execution_count": 72,
   "id": "8d5d9aaf",
   "metadata": {},
   "outputs": [
    {
     "data": {
      "text/plain": [
       "MultiIndex([(   'Simpson',   'Homer'),\n",
       "            (   'Simpson',    'Bart'),\n",
       "            (   'Simpson',  ' Marge'),\n",
       "            ('South Park', 'Cartman'),\n",
       "            ('South Park',   'Kenny'),\n",
       "            ('South Park',    'Kyle')],\n",
       "           )"
      ]
     },
     "execution_count": 72,
     "metadata": {},
     "output_type": "execute_result"
    }
   ],
   "source": [
    "birlesmisIndex"
   ]
  },
  {
   "cell_type": "code",
   "execution_count": 73,
   "id": "030e8197",
   "metadata": {},
   "outputs": [],
   "source": [
    "benimCizgiFilmListem = [[40,\"A\"],[30,\"B\"],[20,\"C\"],[40,\"D\"],[50,\"E\"],[60,\"F\"]]\n",
    "cizgiFilmNumpyDizisi = np.array(benimCizgiFilmListem) "
   ]
  },
  {
   "cell_type": "code",
   "execution_count": 76,
   "id": "3d0720ad",
   "metadata": {},
   "outputs": [],
   "source": [
    "cizgiFilmDataFrame = pd.DataFrame(cizgiFilmNumpyDizisi, index=birlesmisIndex,\n",
    "                                 columns=[\"Yas\",\"Meslek\"])"
   ]
  },
  {
   "cell_type": "code",
   "execution_count": 77,
   "id": "5b1d1d98",
   "metadata": {},
   "outputs": [
    {
     "data": {
      "text/html": [
       "<div>\n",
       "<style scoped>\n",
       "    .dataframe tbody tr th:only-of-type {\n",
       "        vertical-align: middle;\n",
       "    }\n",
       "\n",
       "    .dataframe tbody tr th {\n",
       "        vertical-align: top;\n",
       "    }\n",
       "\n",
       "    .dataframe thead th {\n",
       "        text-align: right;\n",
       "    }\n",
       "</style>\n",
       "<table border=\"1\" class=\"dataframe\">\n",
       "  <thead>\n",
       "    <tr style=\"text-align: right;\">\n",
       "      <th></th>\n",
       "      <th></th>\n",
       "      <th>Yas</th>\n",
       "      <th>Meslek</th>\n",
       "    </tr>\n",
       "  </thead>\n",
       "  <tbody>\n",
       "    <tr>\n",
       "      <th rowspan=\"3\" valign=\"top\">Simpson</th>\n",
       "      <th>Homer</th>\n",
       "      <td>40</td>\n",
       "      <td>A</td>\n",
       "    </tr>\n",
       "    <tr>\n",
       "      <th>Bart</th>\n",
       "      <td>30</td>\n",
       "      <td>B</td>\n",
       "    </tr>\n",
       "    <tr>\n",
       "      <th>Marge</th>\n",
       "      <td>20</td>\n",
       "      <td>C</td>\n",
       "    </tr>\n",
       "    <tr>\n",
       "      <th rowspan=\"3\" valign=\"top\">South Park</th>\n",
       "      <th>Cartman</th>\n",
       "      <td>40</td>\n",
       "      <td>D</td>\n",
       "    </tr>\n",
       "    <tr>\n",
       "      <th>Kenny</th>\n",
       "      <td>50</td>\n",
       "      <td>E</td>\n",
       "    </tr>\n",
       "    <tr>\n",
       "      <th>Kyle</th>\n",
       "      <td>60</td>\n",
       "      <td>F</td>\n",
       "    </tr>\n",
       "  </tbody>\n",
       "</table>\n",
       "</div>"
      ],
      "text/plain": [
       "                   Yas Meslek\n",
       "Simpson    Homer    40      A\n",
       "           Bart     30      B\n",
       "            Marge   20      C\n",
       "South Park Cartman  40      D\n",
       "           Kenny    50      E\n",
       "           Kyle     60      F"
      ]
     },
     "execution_count": 77,
     "metadata": {},
     "output_type": "execute_result"
    }
   ],
   "source": [
    "cizgiFilmDataFrame"
   ]
  },
  {
   "cell_type": "code",
   "execution_count": 78,
   "id": "d608bfc4",
   "metadata": {},
   "outputs": [
    {
     "data": {
      "text/html": [
       "<div>\n",
       "<style scoped>\n",
       "    .dataframe tbody tr th:only-of-type {\n",
       "        vertical-align: middle;\n",
       "    }\n",
       "\n",
       "    .dataframe tbody tr th {\n",
       "        vertical-align: top;\n",
       "    }\n",
       "\n",
       "    .dataframe thead th {\n",
       "        text-align: right;\n",
       "    }\n",
       "</style>\n",
       "<table border=\"1\" class=\"dataframe\">\n",
       "  <thead>\n",
       "    <tr style=\"text-align: right;\">\n",
       "      <th></th>\n",
       "      <th>Yas</th>\n",
       "      <th>Meslek</th>\n",
       "    </tr>\n",
       "  </thead>\n",
       "  <tbody>\n",
       "    <tr>\n",
       "      <th>Homer</th>\n",
       "      <td>40</td>\n",
       "      <td>A</td>\n",
       "    </tr>\n",
       "    <tr>\n",
       "      <th>Bart</th>\n",
       "      <td>30</td>\n",
       "      <td>B</td>\n",
       "    </tr>\n",
       "    <tr>\n",
       "      <th>Marge</th>\n",
       "      <td>20</td>\n",
       "      <td>C</td>\n",
       "    </tr>\n",
       "  </tbody>\n",
       "</table>\n",
       "</div>"
      ],
      "text/plain": [
       "       Yas Meslek\n",
       "Homer   40      A\n",
       "Bart    30      B\n",
       " Marge  20      C"
      ]
     },
     "execution_count": 78,
     "metadata": {},
     "output_type": "execute_result"
    }
   ],
   "source": [
    "cizgiFilmDataFrame.loc[\"Simpson\"]"
   ]
  },
  {
   "cell_type": "code",
   "execution_count": 79,
   "id": "5e7c1bca",
   "metadata": {},
   "outputs": [
    {
     "data": {
      "text/plain": [
       "Yas       50\n",
       "Meslek     E\n",
       "Name: Kenny, dtype: object"
      ]
     },
     "execution_count": 79,
     "metadata": {},
     "output_type": "execute_result"
    }
   ],
   "source": [
    "cizgiFilmDataFrame.loc[\"South Park\"].loc[\"Kenny\"]"
   ]
  },
  {
   "cell_type": "code",
   "execution_count": 80,
   "id": "93a96b70",
   "metadata": {},
   "outputs": [],
   "source": [
    "cizgiFilmDataFrame.index.names = [\"Film Adı\",\"İsim\"]"
   ]
  },
  {
   "cell_type": "code",
   "execution_count": 81,
   "id": "f355af4e",
   "metadata": {},
   "outputs": [
    {
     "data": {
      "text/html": [
       "<div>\n",
       "<style scoped>\n",
       "    .dataframe tbody tr th:only-of-type {\n",
       "        vertical-align: middle;\n",
       "    }\n",
       "\n",
       "    .dataframe tbody tr th {\n",
       "        vertical-align: top;\n",
       "    }\n",
       "\n",
       "    .dataframe thead th {\n",
       "        text-align: right;\n",
       "    }\n",
       "</style>\n",
       "<table border=\"1\" class=\"dataframe\">\n",
       "  <thead>\n",
       "    <tr style=\"text-align: right;\">\n",
       "      <th></th>\n",
       "      <th></th>\n",
       "      <th>Yas</th>\n",
       "      <th>Meslek</th>\n",
       "    </tr>\n",
       "    <tr>\n",
       "      <th>Film Adı</th>\n",
       "      <th>İsim</th>\n",
       "      <th></th>\n",
       "      <th></th>\n",
       "    </tr>\n",
       "  </thead>\n",
       "  <tbody>\n",
       "    <tr>\n",
       "      <th rowspan=\"3\" valign=\"top\">Simpson</th>\n",
       "      <th>Homer</th>\n",
       "      <td>40</td>\n",
       "      <td>A</td>\n",
       "    </tr>\n",
       "    <tr>\n",
       "      <th>Bart</th>\n",
       "      <td>30</td>\n",
       "      <td>B</td>\n",
       "    </tr>\n",
       "    <tr>\n",
       "      <th>Marge</th>\n",
       "      <td>20</td>\n",
       "      <td>C</td>\n",
       "    </tr>\n",
       "    <tr>\n",
       "      <th rowspan=\"3\" valign=\"top\">South Park</th>\n",
       "      <th>Cartman</th>\n",
       "      <td>40</td>\n",
       "      <td>D</td>\n",
       "    </tr>\n",
       "    <tr>\n",
       "      <th>Kenny</th>\n",
       "      <td>50</td>\n",
       "      <td>E</td>\n",
       "    </tr>\n",
       "    <tr>\n",
       "      <th>Kyle</th>\n",
       "      <td>60</td>\n",
       "      <td>F</td>\n",
       "    </tr>\n",
       "  </tbody>\n",
       "</table>\n",
       "</div>"
      ],
      "text/plain": [
       "                   Yas Meslek\n",
       "Film Adı   İsim              \n",
       "Simpson    Homer    40      A\n",
       "           Bart     30      B\n",
       "            Marge   20      C\n",
       "South Park Cartman  40      D\n",
       "           Kenny    50      E\n",
       "           Kyle     60      F"
      ]
     },
     "execution_count": 81,
     "metadata": {},
     "output_type": "execute_result"
    }
   ],
   "source": [
    "cizgiFilmDataFrame"
   ]
  },
  {
   "cell_type": "code",
   "execution_count": null,
   "id": "3343b436",
   "metadata": {},
   "outputs": [],
   "source": []
  }
 ],
 "metadata": {
  "kernelspec": {
   "display_name": "Python 3 (ipykernel)",
   "language": "python",
   "name": "python3"
  },
  "language_info": {
   "codemirror_mode": {
    "name": "ipython",
    "version": 3
   },
   "file_extension": ".py",
   "mimetype": "text/x-python",
   "name": "python",
   "nbconvert_exporter": "python",
   "pygments_lexer": "ipython3",
   "version": "3.9.13"
  }
 },
 "nbformat": 4,
 "nbformat_minor": 5
}
