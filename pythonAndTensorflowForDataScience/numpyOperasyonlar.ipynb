{
 "cells": [
  {
   "cell_type": "code",
   "execution_count": 1,
   "id": "135b518e",
   "metadata": {},
   "outputs": [],
   "source": [
    "import numpy as np"
   ]
  },
  {
   "cell_type": "code",
   "execution_count": 2,
   "id": "97b50eb6",
   "metadata": {},
   "outputs": [],
   "source": [
    "benimDizim = np.arange(0,15)"
   ]
  },
  {
   "cell_type": "code",
   "execution_count": 3,
   "id": "018206e3",
   "metadata": {},
   "outputs": [
    {
     "data": {
      "text/plain": [
       "array([ 0,  1,  2,  3,  4,  5,  6,  7,  8,  9, 10, 11, 12, 13, 14])"
      ]
     },
     "execution_count": 3,
     "metadata": {},
     "output_type": "execute_result"
    }
   ],
   "source": [
    "benimDizim"
   ]
  },
  {
   "cell_type": "code",
   "execution_count": 4,
   "id": "8a5bcb28",
   "metadata": {},
   "outputs": [
    {
     "data": {
      "text/plain": [
       "5"
      ]
     },
     "execution_count": 4,
     "metadata": {},
     "output_type": "execute_result"
    }
   ],
   "source": [
    "benimDizim[5]"
   ]
  },
  {
   "cell_type": "code",
   "execution_count": 5,
   "id": "b34fd95a",
   "metadata": {},
   "outputs": [
    {
     "data": {
      "text/plain": [
       "array([3, 4])"
      ]
     },
     "execution_count": 5,
     "metadata": {},
     "output_type": "execute_result"
    }
   ],
   "source": [
    "benimDizim[3:5]"
   ]
  },
  {
   "cell_type": "code",
   "execution_count": 6,
   "id": "bc383e5d",
   "metadata": {},
   "outputs": [
    {
     "data": {
      "text/plain": [
       "array([3, 9])"
      ]
     },
     "execution_count": 6,
     "metadata": {},
     "output_type": "execute_result"
    }
   ],
   "source": [
    "benimDizim[3::6]"
   ]
  },
  {
   "cell_type": "code",
   "execution_count": 7,
   "id": "daf22d86",
   "metadata": {},
   "outputs": [
    {
     "data": {
      "text/plain": [
       "array([ 0,  5, 10])"
      ]
     },
     "execution_count": 7,
     "metadata": {},
     "output_type": "execute_result"
    }
   ],
   "source": [
    "benimDizim[::5]"
   ]
  },
  {
   "cell_type": "code",
   "execution_count": 8,
   "id": "66d7ad3c",
   "metadata": {},
   "outputs": [],
   "source": [
    "benimDizim[3:5] = -5"
   ]
  },
  {
   "cell_type": "code",
   "execution_count": 9,
   "id": "8e53bb70",
   "metadata": {},
   "outputs": [
    {
     "data": {
      "text/plain": [
       "array([ 0,  1,  2, -5, -5,  5,  6,  7,  8,  9, 10, 11, 12, 13, 14])"
      ]
     },
     "execution_count": 9,
     "metadata": {},
     "output_type": "execute_result"
    }
   ],
   "source": [
    "benimDizim"
   ]
  },
  {
   "cell_type": "code",
   "execution_count": 10,
   "id": "2b118479",
   "metadata": {},
   "outputs": [
    {
     "data": {
      "text/plain": [
       "array([ 0,  1,  2,  3,  4,  5,  6,  7,  8,  9, 10, 11, 12, 13, 14, 15, 16,\n",
       "       17, 18, 19, 20, 21, 22, 23])"
      ]
     },
     "execution_count": 10,
     "metadata": {},
     "output_type": "execute_result"
    }
   ],
   "source": [
    "baskaDizi = np.arange(0,24)\n",
    "baskaDizi"
   ]
  },
  {
   "cell_type": "code",
   "execution_count": 13,
   "id": "bd7e7e43",
   "metadata": {},
   "outputs": [
    {
     "data": {
      "text/plain": [
       "array([4, 5, 6, 7, 8])"
      ]
     },
     "execution_count": 13,
     "metadata": {},
     "output_type": "execute_result"
    }
   ],
   "source": [
    "slicingDizisi = baskaDizi[4:9]\n",
    "slicingDizisi"
   ]
  },
  {
   "cell_type": "code",
   "execution_count": 14,
   "id": "f4a3dbe0",
   "metadata": {},
   "outputs": [],
   "source": [
    "slicingDizisi[:] = 700"
   ]
  },
  {
   "cell_type": "code",
   "execution_count": 15,
   "id": "2b2a22a4",
   "metadata": {},
   "outputs": [
    {
     "data": {
      "text/plain": [
       "array([700, 700, 700, 700, 700])"
      ]
     },
     "execution_count": 15,
     "metadata": {},
     "output_type": "execute_result"
    }
   ],
   "source": [
    "slicingDizisi"
   ]
  },
  {
   "cell_type": "code",
   "execution_count": 16,
   "id": "4df9602b",
   "metadata": {},
   "outputs": [
    {
     "data": {
      "text/plain": [
       "array([  0,   1,   2,   3, 700, 700, 700, 700, 700,   9,  10,  11,  12,\n",
       "        13,  14,  15,  16,  17,  18,  19,  20,  21,  22,  23])"
      ]
     },
     "execution_count": 16,
     "metadata": {},
     "output_type": "execute_result"
    }
   ],
   "source": [
    "baskaDizi"
   ]
  },
  {
   "cell_type": "code",
   "execution_count": 17,
   "id": "ae2dc64b",
   "metadata": {},
   "outputs": [],
   "source": [
    "ornekDizi = np.arange(0,24)"
   ]
  },
  {
   "cell_type": "code",
   "execution_count": 18,
   "id": "790861a8",
   "metadata": {},
   "outputs": [
    {
     "data": {
      "text/plain": [
       "array([ 0,  1,  2,  3,  4,  5,  6,  7,  8,  9, 10, 11, 12, 13, 14, 15, 16,\n",
       "       17, 18, 19, 20, 21, 22, 23])"
      ]
     },
     "execution_count": 18,
     "metadata": {},
     "output_type": "execute_result"
    }
   ],
   "source": [
    "ornekDizi"
   ]
  },
  {
   "cell_type": "code",
   "execution_count": 19,
   "id": "ae6a10c8",
   "metadata": {},
   "outputs": [
    {
     "data": {
      "text/plain": [
       "array([ 0,  1,  2,  3,  4,  5,  6,  7,  8,  9, 10, 11, 12, 13, 14, 15, 16,\n",
       "       17, 18, 19, 20, 21, 22, 23])"
      ]
     },
     "execution_count": 19,
     "metadata": {},
     "output_type": "execute_result"
    }
   ],
   "source": [
    "ornekDiziKopyasi = ornekDizi.copy()\n",
    "ornekDiziKopyasi"
   ]
  },
  {
   "cell_type": "code",
   "execution_count": 20,
   "id": "1c8149eb",
   "metadata": {},
   "outputs": [
    {
     "data": {
      "text/plain": [
       "array([ 0,  1,  2,  3,  4,  5,  6,  7,  8,  9, 10, 11, 12, 13, 14, 15, 16,\n",
       "       17, 18, 19, 20, 21, 22, 23])"
      ]
     },
     "execution_count": 20,
     "metadata": {},
     "output_type": "execute_result"
    }
   ],
   "source": [
    "ornekDizi"
   ]
  },
  {
   "cell_type": "code",
   "execution_count": 21,
   "id": "c0c47305",
   "metadata": {},
   "outputs": [],
   "source": [
    "ornekDiziKopyasiSlicing = ornekDiziKopyasi[3:6]"
   ]
  },
  {
   "cell_type": "code",
   "execution_count": 22,
   "id": "161a23f4",
   "metadata": {},
   "outputs": [],
   "source": [
    "ornekDiziKopyasiSlicing[:] = 800"
   ]
  },
  {
   "cell_type": "code",
   "execution_count": 23,
   "id": "13e55b50",
   "metadata": {},
   "outputs": [
    {
     "data": {
      "text/plain": [
       "array([800, 800, 800])"
      ]
     },
     "execution_count": 23,
     "metadata": {},
     "output_type": "execute_result"
    }
   ],
   "source": [
    "ornekDiziKopyasiSlicing"
   ]
  },
  {
   "cell_type": "code",
   "execution_count": 25,
   "id": "8bc149af",
   "metadata": {},
   "outputs": [
    {
     "data": {
      "text/plain": [
       "array([  0,   1,   2, 800, 800, 800,   6,   7,   8,   9,  10,  11,  12,\n",
       "        13,  14,  15,  16,  17,  18,  19,  20,  21,  22,  23])"
      ]
     },
     "execution_count": 25,
     "metadata": {},
     "output_type": "execute_result"
    }
   ],
   "source": [
    "ornekDiziKopyasi"
   ]
  },
  {
   "cell_type": "code",
   "execution_count": 26,
   "id": "ef21d2de",
   "metadata": {},
   "outputs": [
    {
     "data": {
      "text/plain": [
       "array([ 0,  1,  2,  3,  4,  5,  6,  7,  8,  9, 10, 11, 12, 13, 14, 15, 16,\n",
       "       17, 18, 19, 20, 21, 22, 23])"
      ]
     },
     "execution_count": 26,
     "metadata": {},
     "output_type": "execute_result"
    }
   ],
   "source": [
    "ornekDizi"
   ]
  },
  {
   "cell_type": "markdown",
   "id": "dfafc8d8",
   "metadata": {},
   "source": [
    "## matrix"
   ]
  },
  {
   "cell_type": "code",
   "execution_count": 29,
   "id": "3c0a7d45",
   "metadata": {},
   "outputs": [],
   "source": [
    "benimListem = [[10,20,30],[20,30,40],[40,50,60]]\n",
    "benimMatrixDizim = np.array(benimListem)"
   ]
  },
  {
   "cell_type": "code",
   "execution_count": 31,
   "id": "0c94395f",
   "metadata": {},
   "outputs": [
    {
     "data": {
      "text/plain": [
       "array([[10, 20, 30],\n",
       "       [20, 30, 40],\n",
       "       [40, 50, 60]])"
      ]
     },
     "execution_count": 31,
     "metadata": {},
     "output_type": "execute_result"
    }
   ],
   "source": [
    "benimMatrixDizim"
   ]
  },
  {
   "cell_type": "code",
   "execution_count": 32,
   "id": "d8e0ffd6",
   "metadata": {},
   "outputs": [
    {
     "data": {
      "text/plain": [
       "array([10, 20, 30])"
      ]
     },
     "execution_count": 32,
     "metadata": {},
     "output_type": "execute_result"
    }
   ],
   "source": [
    "benimMatrixDizim[0]"
   ]
  },
  {
   "cell_type": "code",
   "execution_count": 33,
   "id": "92f87837",
   "metadata": {},
   "outputs": [
    {
     "data": {
      "text/plain": [
       "40"
      ]
     },
     "execution_count": 33,
     "metadata": {},
     "output_type": "execute_result"
    }
   ],
   "source": [
    "benimMatrixDizim[1][2]"
   ]
  },
  {
   "cell_type": "code",
   "execution_count": 36,
   "id": "1f320107",
   "metadata": {},
   "outputs": [
    {
     "data": {
      "text/plain": [
       "10"
      ]
     },
     "execution_count": 36,
     "metadata": {},
     "output_type": "execute_result"
    }
   ],
   "source": [
    "benimMatrixDizim[0,0]"
   ]
  },
  {
   "cell_type": "code",
   "execution_count": 39,
   "id": "a49335eb",
   "metadata": {},
   "outputs": [
    {
     "data": {
      "text/plain": [
       "array([[60]])"
      ]
     },
     "execution_count": 39,
     "metadata": {},
     "output_type": "execute_result"
    }
   ],
   "source": [
    "benimMatrixDizim[2:,2:]"
   ]
  },
  {
   "cell_type": "code",
   "execution_count": 44,
   "id": "af8adcdc",
   "metadata": {},
   "outputs": [],
   "source": [
    " yeniListe = [[0,1,2,3,4],[5,6,7,8,9],[10,11,12,13,14],[15,16,17,18,19],[20,21,22,23,24]]"
   ]
  },
  {
   "cell_type": "code",
   "execution_count": 45,
   "id": "6e661bb4",
   "metadata": {},
   "outputs": [
    {
     "data": {
      "text/plain": [
       "array([[ 0,  1,  2,  3,  4],\n",
       "       [ 5,  6,  7,  8,  9],\n",
       "       [10, 11, 12, 13, 14],\n",
       "       [15, 16, 17, 18, 19],\n",
       "       [20, 21, 22, 23, 24]])"
      ]
     },
     "execution_count": 45,
     "metadata": {},
     "output_type": "execute_result"
    }
   ],
   "source": [
    "yeniMatrix = np.array(yeniListe)\n",
    "yeniMatrix"
   ]
  },
  {
   "cell_type": "code",
   "execution_count": 47,
   "id": "d47d778b",
   "metadata": {},
   "outputs": [
    {
     "data": {
      "text/plain": [
       "array([[ 0,  1,  2,  3,  4],\n",
       "       [10, 11, 12, 13, 14],\n",
       "       [20, 21, 22, 23, 24]])"
      ]
     },
     "execution_count": 47,
     "metadata": {},
     "output_type": "execute_result"
    }
   ],
   "source": [
    "yeniMatrix[[0,2,4]]"
   ]
  },
  {
   "cell_type": "markdown",
   "id": "09677a53",
   "metadata": {},
   "source": [
    "## operasyonlar"
   ]
  },
  {
   "cell_type": "code",
   "execution_count": 50,
   "id": "92ff515f",
   "metadata": {},
   "outputs": [],
   "source": [
    "yeniBirDizi = np.random.randint(1,100,20)"
   ]
  },
  {
   "cell_type": "code",
   "execution_count": 51,
   "id": "9ed0182f",
   "metadata": {},
   "outputs": [
    {
     "data": {
      "text/plain": [
       "array([51, 10, 56, 14, 10, 42, 80, 50, 58, 66,  1, 20, 63, 15, 20, 50, 97,\n",
       "       27, 62, 46])"
      ]
     },
     "execution_count": 51,
     "metadata": {},
     "output_type": "execute_result"
    }
   ],
   "source": [
    "yeniBirDizi"
   ]
  },
  {
   "cell_type": "code",
   "execution_count": 52,
   "id": "0782899f",
   "metadata": {},
   "outputs": [
    {
     "data": {
      "text/plain": [
       "array([ True, False,  True, False, False,  True,  True,  True,  True,\n",
       "        True, False, False,  True, False, False,  True,  True,  True,\n",
       "        True,  True])"
      ]
     },
     "execution_count": 52,
     "metadata": {},
     "output_type": "execute_result"
    }
   ],
   "source": [
    "yeniBirDizi > 24"
   ]
  },
  {
   "cell_type": "code",
   "execution_count": 53,
   "id": "64b90415",
   "metadata": {},
   "outputs": [
    {
     "data": {
      "text/plain": [
       "array([51, 10, 56, 14, 10, 42, 80, 50, 58, 66,  1, 20, 63, 15, 20, 50, 97,\n",
       "       27, 62, 46])"
      ]
     },
     "execution_count": 53,
     "metadata": {},
     "output_type": "execute_result"
    }
   ],
   "source": [
    "yeniBirDizi"
   ]
  },
  {
   "cell_type": "code",
   "execution_count": 55,
   "id": "4ab66879",
   "metadata": {},
   "outputs": [],
   "source": [
    "sonucDizisi=yeniBirDizi>24"
   ]
  },
  {
   "cell_type": "code",
   "execution_count": 56,
   "id": "0454e7f1",
   "metadata": {},
   "outputs": [
    {
     "data": {
      "text/plain": [
       "array([ True, False,  True, False, False,  True,  True,  True,  True,\n",
       "        True, False, False,  True, False, False,  True,  True,  True,\n",
       "        True,  True])"
      ]
     },
     "execution_count": 56,
     "metadata": {},
     "output_type": "execute_result"
    }
   ],
   "source": [
    "sonucDizisi"
   ]
  },
  {
   "cell_type": "code",
   "execution_count": 57,
   "id": "7ad8c9cc",
   "metadata": {},
   "outputs": [
    {
     "data": {
      "text/plain": [
       "array([51, 56, 42, 80, 50, 58, 66, 63, 50, 97, 27, 62, 46])"
      ]
     },
     "execution_count": 57,
     "metadata": {},
     "output_type": "execute_result"
    }
   ],
   "source": [
    "yeniBirDizi[sonucDizisi]"
   ]
  },
  {
   "cell_type": "code",
   "execution_count": 58,
   "id": "efc477bd",
   "metadata": {},
   "outputs": [
    {
     "data": {
      "text/plain": [
       "array([51, 56, 42, 80, 50, 58, 66, 63, 50, 97, 27, 62, 46])"
      ]
     },
     "execution_count": 58,
     "metadata": {},
     "output_type": "execute_result"
    }
   ],
   "source": [
    "yeniBirDizi[yeniBirDizi>24]"
   ]
  },
  {
   "cell_type": "code",
   "execution_count": 59,
   "id": "f28d496b",
   "metadata": {},
   "outputs": [],
   "source": [
    "sonDizi = np.arange(0,24)"
   ]
  },
  {
   "cell_type": "code",
   "execution_count": 60,
   "id": "f3cbd35f",
   "metadata": {},
   "outputs": [
    {
     "data": {
      "text/plain": [
       "array([ 0,  1,  2,  3,  4,  5,  6,  7,  8,  9, 10, 11, 12, 13, 14, 15, 16,\n",
       "       17, 18, 19, 20, 21, 22, 23])"
      ]
     },
     "execution_count": 60,
     "metadata": {},
     "output_type": "execute_result"
    }
   ],
   "source": [
    "sonDizi"
   ]
  },
  {
   "cell_type": "code",
   "execution_count": 61,
   "id": "d4a4bdf4",
   "metadata": {},
   "outputs": [
    {
     "data": {
      "text/plain": [
       "array([ 0,  2,  4,  6,  8, 10, 12, 14, 16, 18, 20, 22, 24, 26, 28, 30, 32,\n",
       "       34, 36, 38, 40, 42, 44, 46])"
      ]
     },
     "execution_count": 61,
     "metadata": {},
     "output_type": "execute_result"
    }
   ],
   "source": [
    "sonDizi + sonDizi"
   ]
  },
  {
   "cell_type": "code",
   "execution_count": 62,
   "id": "a65b9b7a",
   "metadata": {},
   "outputs": [
    {
     "data": {
      "text/plain": [
       "array([  0,   1,   4,   9,  16,  25,  36,  49,  64,  81, 100, 121, 144,\n",
       "       169, 196, 225, 256, 289, 324, 361, 400, 441, 484, 529])"
      ]
     },
     "execution_count": 62,
     "metadata": {},
     "output_type": "execute_result"
    }
   ],
   "source": [
    "sonDizi*sonDizi"
   ]
  },
  {
   "cell_type": "code",
   "execution_count": 63,
   "id": "40890af7",
   "metadata": {},
   "outputs": [
    {
     "data": {
      "text/plain": [
       "array([0.        , 1.        , 1.41421356, 1.73205081, 2.        ,\n",
       "       2.23606798, 2.44948974, 2.64575131, 2.82842712, 3.        ,\n",
       "       3.16227766, 3.31662479, 3.46410162, 3.60555128, 3.74165739,\n",
       "       3.87298335, 4.        , 4.12310563, 4.24264069, 4.35889894,\n",
       "       4.47213595, 4.58257569, 4.69041576, 4.79583152])"
      ]
     },
     "execution_count": 63,
     "metadata": {},
     "output_type": "execute_result"
    }
   ],
   "source": [
    "np.sqrt(sonDizi)"
   ]
  },
  {
   "cell_type": "code",
   "execution_count": 64,
   "id": "24700966",
   "metadata": {},
   "outputs": [
    {
     "data": {
      "text/plain": [
       "<function numpy.amax(a, axis=None, out=None, keepdims=<no value>, initial=<no value>, where=<no value>)>"
      ]
     },
     "execution_count": 64,
     "metadata": {},
     "output_type": "execute_result"
    }
   ],
   "source": [
    "np.max"
   ]
  },
  {
   "cell_type": "code",
   "execution_count": 65,
   "id": "d5d8568b",
   "metadata": {},
   "outputs": [
    {
     "data": {
      "text/plain": [
       "23"
      ]
     },
     "execution_count": 65,
     "metadata": {},
     "output_type": "execute_result"
    }
   ],
   "source": [
    "np.max(sonDizi)"
   ]
  },
  {
   "cell_type": "code",
   "execution_count": null,
   "id": "7da309a2",
   "metadata": {},
   "outputs": [],
   "source": []
  }
 ],
 "metadata": {
  "kernelspec": {
   "display_name": "Python 3 (ipykernel)",
   "language": "python",
   "name": "python3"
  },
  "language_info": {
   "codemirror_mode": {
    "name": "ipython",
    "version": 3
   },
   "file_extension": ".py",
   "mimetype": "text/x-python",
   "name": "python",
   "nbconvert_exporter": "python",
   "pygments_lexer": "ipython3",
   "version": "3.9.13"
  }
 },
 "nbformat": 4,
 "nbformat_minor": 5
}
