{
 "cells": [
  {
   "cell_type": "code",
   "execution_count": 1,
   "id": "e8473980",
   "metadata": {},
   "outputs": [],
   "source": [
    "import numpy as np\n",
    "import pandas as pd"
   ]
  },
  {
   "cell_type": "markdown",
   "id": "d8ca044d",
   "metadata": {},
   "source": [
    "## series"
   ]
  },
  {
   "cell_type": "code",
   "execution_count": 4,
   "id": "d2f72834",
   "metadata": {},
   "outputs": [],
   "source": [
    "benimSozlugum = {\"Eray\":22, \"Ennur\":12,\"Arif\":23}"
   ]
  },
  {
   "cell_type": "code",
   "execution_count": 7,
   "id": "1ce7ccd0",
   "metadata": {},
   "outputs": [
    {
     "data": {
      "text/plain": [
       "Eray     22\n",
       "Ennur    12\n",
       "Arif     23\n",
       "dtype: int64"
      ]
     },
     "execution_count": 7,
     "metadata": {},
     "output_type": "execute_result"
    }
   ],
   "source": [
    "pd.Series(benimSozlugum)"
   ]
  },
  {
   "cell_type": "code",
   "execution_count": 8,
   "id": "08ae700e",
   "metadata": {},
   "outputs": [],
   "source": [
    "benimListem = [50,40,30]\n",
    "benimIsimlerim = [\"Eray\",\"Ennur\",\"Arif\"]"
   ]
  },
  {
   "cell_type": "code",
   "execution_count": 9,
   "id": "cc70a80e",
   "metadata": {},
   "outputs": [
    {
     "data": {
      "text/plain": [
       "0    50\n",
       "1    40\n",
       "2    30\n",
       "dtype: int64"
      ]
     },
     "execution_count": 9,
     "metadata": {},
     "output_type": "execute_result"
    }
   ],
   "source": [
    "pd.Series(benimListem)"
   ]
  },
  {
   "cell_type": "code",
   "execution_count": 10,
   "id": "a20292f8",
   "metadata": {},
   "outputs": [
    {
     "data": {
      "text/plain": [
       "Eray     50\n",
       "Ennur    40\n",
       "Arif     30\n",
       "dtype: int64"
      ]
     },
     "execution_count": 10,
     "metadata": {},
     "output_type": "execute_result"
    }
   ],
   "source": [
    "pd.Series(benimListem, benimIsimlerim)"
   ]
  },
  {
   "cell_type": "code",
   "execution_count": 11,
   "id": "962e1cac",
   "metadata": {},
   "outputs": [
    {
     "data": {
      "text/plain": [
       "Eray     50\n",
       "Ennur    40\n",
       "Arif     30\n",
       "dtype: int64"
      ]
     },
     "execution_count": 11,
     "metadata": {},
     "output_type": "execute_result"
    }
   ],
   "source": [
    "pd.Series(data=benimListem, index=benimIsimlerim)"
   ]
  },
  {
   "cell_type": "code",
   "execution_count": 13,
   "id": "f5261831",
   "metadata": {},
   "outputs": [
    {
     "data": {
      "text/plain": [
       "array([50, 30, 40])"
      ]
     },
     "execution_count": 13,
     "metadata": {},
     "output_type": "execute_result"
    }
   ],
   "source": [
    "numpyDizisi = np.array([50,30,40])\n",
    "numpyDizisi"
   ]
  },
  {
   "cell_type": "code",
   "execution_count": 14,
   "id": "e4b0fdb5",
   "metadata": {},
   "outputs": [
    {
     "data": {
      "text/plain": [
       "0    50\n",
       "1    30\n",
       "2    40\n",
       "dtype: int32"
      ]
     },
     "execution_count": 14,
     "metadata": {},
     "output_type": "execute_result"
    }
   ],
   "source": [
    "pd.Series(numpyDizisi)"
   ]
  },
  {
   "cell_type": "code",
   "execution_count": 15,
   "id": "06daf355",
   "metadata": {},
   "outputs": [
    {
     "data": {
      "text/plain": [
       "Eray     50\n",
       "Ennur    30\n",
       "Arif     40\n",
       "dtype: int32"
      ]
     },
     "execution_count": 15,
     "metadata": {},
     "output_type": "execute_result"
    }
   ],
   "source": [
    "pd.Series(numpyDizisi, benimIsimlerim)"
   ]
  },
  {
   "cell_type": "markdown",
   "id": "cbde04e4",
   "metadata": {},
   "source": [
    "## series ozellikleri"
   ]
  },
  {
   "cell_type": "code",
   "execution_count": 17,
   "id": "286a6d3a",
   "metadata": {},
   "outputs": [
    {
     "data": {
      "text/plain": [
       "1     Eray\n",
       "2     Arif\n",
       "3    Ennur\n",
       "dtype: object"
      ]
     },
     "execution_count": 17,
     "metadata": {},
     "output_type": "execute_result"
    }
   ],
   "source": [
    "pd.Series([\"Eray\",\"Arif\",\"Ennur\"],[1,2,3])"
   ]
  },
  {
   "cell_type": "code",
   "execution_count": 18,
   "id": "ecc36702",
   "metadata": {},
   "outputs": [
    {
     "data": {
      "text/plain": [
       "Eray     10\n",
       "Arif     20\n",
       "Ennur    50\n",
       "dtype: int64"
      ]
     },
     "execution_count": 18,
     "metadata": {},
     "output_type": "execute_result"
    }
   ],
   "source": [
    "yarismaSonucu1 = pd.Series([10,20,50],[\"Eray\",\"Arif\",\"Ennur\"])\n",
    "yarismaSonucu1"
   ]
  },
  {
   "cell_type": "code",
   "execution_count": 19,
   "id": "f5e49687",
   "metadata": {},
   "outputs": [
    {
     "data": {
      "text/plain": [
       "Eray      1\n",
       "Arif     45\n",
       "Ennur    30\n",
       "dtype: int64"
      ]
     },
     "execution_count": 19,
     "metadata": {},
     "output_type": "execute_result"
    }
   ],
   "source": [
    "yarismaSonucu2 = pd.Series([1,45,30],[\"Eray\",\"Arif\",\"Ennur\"])\n",
    "yarismaSonucu2"
   ]
  },
  {
   "cell_type": "code",
   "execution_count": 21,
   "id": "c8026b46",
   "metadata": {},
   "outputs": [
    {
     "data": {
      "text/plain": [
       "10"
      ]
     },
     "execution_count": 21,
     "metadata": {},
     "output_type": "execute_result"
    }
   ],
   "source": [
    "yarismaSonucu1[\"Eray\"]"
   ]
  },
  {
   "cell_type": "code",
   "execution_count": 22,
   "id": "c984f75c",
   "metadata": {},
   "outputs": [
    {
     "data": {
      "text/plain": [
       "Eray     11\n",
       "Arif     65\n",
       "Ennur    80\n",
       "dtype: int64"
      ]
     },
     "execution_count": 22,
     "metadata": {},
     "output_type": "execute_result"
    }
   ],
   "source": [
    "sonSonuc=yarismaSonucu1+yarismaSonucu2\n",
    "sonSonuc"
   ]
  },
  {
   "cell_type": "code",
   "execution_count": 24,
   "id": "7d7ffc60",
   "metadata": {},
   "outputs": [],
   "source": [
    "farkliSeries1 = pd.Series([20,30,40,50],[\"a\",\"b\",\"c\",\"d\"])\n",
    "farkliSeries2 = pd.Series([20,30,40,50],[\"a\",\"c\",\"f\",\"g\"])"
   ]
  },
  {
   "cell_type": "code",
   "execution_count": 25,
   "id": "a583337b",
   "metadata": {},
   "outputs": [
    {
     "data": {
      "text/plain": [
       "a    40.0\n",
       "b     NaN\n",
       "c    70.0\n",
       "d     NaN\n",
       "f     NaN\n",
       "g     NaN\n",
       "dtype: float64"
      ]
     },
     "execution_count": 25,
     "metadata": {},
     "output_type": "execute_result"
    }
   ],
   "source": [
    "farkliSeries1+farkliSeries"
   ]
  },
  {
   "cell_type": "code",
   "execution_count": null,
   "id": "2945ff76",
   "metadata": {},
   "outputs": [],
   "source": []
  }
 ],
 "metadata": {
  "kernelspec": {
   "display_name": "Python 3 (ipykernel)",
   "language": "python",
   "name": "python3"
  },
  "language_info": {
   "codemirror_mode": {
    "name": "ipython",
    "version": 3
   },
   "file_extension": ".py",
   "mimetype": "text/x-python",
   "name": "python",
   "nbconvert_exporter": "python",
   "pygments_lexer": "ipython3",
   "version": "3.9.13"
  }
 },
 "nbformat": 4,
 "nbformat_minor": 5
}
